{
 "cells": [
  {
   "cell_type": "code",
   "execution_count": 1,
   "metadata": {},
   "outputs": [],
   "source": [
    "import pandas as  pd\n",
    "import psycopg2"
   ]
  },
  {
   "cell_type": "code",
   "execution_count": null,
   "metadata": {},
   "outputs": [],
   "source": [
    "#Create DataFrames from SQL\n",
    "\n",
    "mydb=psycopg2.connect(host=\"localhost\",\n",
    "                      user=\"postgres\",\n",
    "                      password=\"Nuttertool@12\",\n",
    "                      database=\"phonepe_data\",\n",
    "                      port=\"5432\"\n",
    "                      )\n",
    "cursor=mydb.cursor()\n",
    "\n",
    "#Aggregated_insurance\n",
    "cursor.execute(\"select * from aggregated_insurance;\")\n",
    "mydb.commit()\n",
    "table1=cursor.fetchall()\n",
    "\n",
    "Aggre_insurance=pd.DataFrame(table1,columns=(\"States\",\"Years\",\"Quarter\",\"Transaction_type\",\"Transaction_count\",\"Transaction_amount\"))\n",
    "\n",
    "\n",
    "#Aggregated_transaction\n",
    "cursor.execute(\"select * from aggregated_transaction;\")\n",
    "mydb.commit()\n",
    "table2=cursor.fetchall()\n",
    "\n",
    "Aggre_transaction=pd.DataFrame(table2,columns=(\"States\",\"Years\",\"Quarter\",\"Transaction_type\",\"Transaction_count\",\"Transaction_amount\"))\n",
    "\n",
    "#Aggregated_user\n",
    "cursor.execute(\"select * from aggregated_user;\")\n",
    "mydb.commit()\n",
    "table3=cursor.fetchall()\n",
    "\n",
    "Aggre_user=pd.DataFrame(table3,columns=(\"States\",\"Years\",\"Quarter\",\"Device_brand\",\"Device_count\",\"Percentage\"))\n",
    "\n",
    "\n",
    "#Map_insurance\n",
    "cursor.execute(\"select * from map_insurance;\")\n",
    "mydb.commit()\n",
    "table4=cursor.fetchall()\n",
    "\n",
    "Map_insurance=pd.DataFrame(table4,columns=(\"States\",\"Years\",\"Quarter\",\"District_name\",\"Total_count\",\"Total_amount\"))\n",
    "\n",
    "#Map_transaction\n",
    "cursor.execute(\"select * from map_transaction;\")\n",
    "mydb.commit()\n",
    "table5=cursor.fetchall()\n",
    "\n",
    "Map_transaction=pd.DataFrame(table5,columns=(\"States\",\"Years\",\"Quarter\",\"District_name\",\"Total_count\",\"Total_amount\"))\n",
    "\n",
    "#Map_user\n",
    "cursor.execute(\"select * from map_user;\")\n",
    "mydb.commit()\n",
    "table6=cursor.fetchall()\n",
    "\n",
    "Map_user=pd.DataFrame(table6,columns=(\"States\",\"Years\",\"Quarter\",\"District_name\",\"RegisteredUsers\",\"AppOpens\"))\n",
    "\n",
    "#Top_insurance\n",
    "cursor.execute(\"select * from top_insurance;\")\n",
    "mydb.commit()\n",
    "table7=cursor.fetchall()\n",
    "\n",
    "Top_insurance=pd.DataFrame(table7,columns=(\"States\",\"Years\",\"Quarter\",\"District_name\",\"Total_count\",\"Total_amount\"))\n",
    "\n",
    "#Top_tansaction\n",
    "cursor.execute(\"select * from top_transaction;\")\n",
    "mydb.commit()\n",
    "table8=cursor.fetchall()\n",
    "\n",
    "Top_transaction=pd.DataFrame(table8,columns=(\"States\",\"Years\",\"Quarter\",\"District_name\",\"Total_count\",\"Total_amount\"))\n",
    "\n",
    "#Top_user\n",
    "cursor.execute(\"select * from top_user;\")\n",
    "mydb.commit()\n",
    "table9=cursor.fetchall()\n",
    "\n",
    "Top_user=pd.DataFrame(table9,columns=(\"States\",\"Years\",\"Quarter\",\"District_name\",\"Registered_users\"))"
   ]
  },
  {
   "cell_type": "code",
   "execution_count": null,
   "metadata": {},
   "outputs": [],
   "source": []
  },
  {
   "cell_type": "code",
   "execution_count": null,
   "metadata": {},
   "outputs": [],
   "source": []
  },
  {
   "cell_type": "code",
   "execution_count": null,
   "metadata": {},
   "outputs": [],
   "source": []
  },
  {
   "cell_type": "code",
   "execution_count": null,
   "metadata": {},
   "outputs": [],
   "source": []
  }
 ],
 "metadata": {
  "kernelspec": {
   "display_name": "Python 3",
   "language": "python",
   "name": "python3"
  },
  "language_info": {
   "codemirror_mode": {
    "name": "ipython",
    "version": 3
   },
   "file_extension": ".py",
   "mimetype": "text/x-python",
   "name": "python",
   "nbconvert_exporter": "python",
   "pygments_lexer": "ipython3",
   "version": "3.12.1"
  }
 },
 "nbformat": 4,
 "nbformat_minor": 2
}
